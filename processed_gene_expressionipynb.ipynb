{
  "nbformat": 4,
  "nbformat_minor": 0,
  "metadata": {
    "colab": {
      "provenance": []
    },
    "kernelspec": {
      "name": "python3",
      "display_name": "Python 3"
    },
    "language_info": {
      "name": "python"
    }
  },
  "cells": [
    {
      "cell_type": "code",
      "execution_count": null,
      "metadata": {
        "colab": {
          "base_uri": "https://localhost:8080/"
        },
        "id": "i7guUNnYGkBJ",
        "outputId": "ad43922b-53b8-482e-e981-41058a9521a6"
      },
      "outputs": [
        {
          "output_type": "stream",
          "name": "stdout",
          "text": [
            "Drive already mounted at /content/drive; to attempt to forcibly remount, call drive.mount(\"/content/drive\", force_remount=True).\n"
          ]
        }
      ],
      "source": [
        "# Import necessary libraries\n",
        "import pandas as pd\n",
        "from google.colab import drive\n",
        "# Mount Google Drive\n",
        "drive.mount('/content/drive')\n"
      ]
    },
    {
      "cell_type": "code",
      "source": [
        "# Path to the input CSV file\n",
        "input_file_path = '//content/Gene_details_T_vs_C.xlsx - Sheet1.csv'  # Replace with the actual file path"
      ],
      "metadata": {
        "id": "6YBlRBPJI9hO"
      },
      "execution_count": null,
      "outputs": []
    },
    {
      "cell_type": "code",
      "source": [
        "\n",
        "# Read the CSV file into a DataFrame\n",
        "df = pd.read_csv(input_file_path)"
      ],
      "metadata": {
        "id": "2E_zjAyUT3JZ"
      },
      "execution_count": null,
      "outputs": []
    },
    {
      "cell_type": "code",
      "source": [
        "# Filter based on logFC values and create new DataFrames\n",
        "df_1 = df[(df['logFC'] <= -5) | (df['logFC'] >= 5)]\n",
        "df_2 = df[(df['logFC'] <= -8) | (df['logFC'] >= 8)]\n",
        "df_3 = df[(df['logFC'] <= -10) | (df['logFC'] >= 10)]\n"
      ],
      "metadata": {
        "id": "Kf7LlSEMJzqV"
      },
      "execution_count": null,
      "outputs": []
    },
    {
      "cell_type": "code",
      "source": [
        "# Select the required columns and rename them\n",
        "df_1 = df_1[['Gene_Name', 'logFC', 'PValue']].rename(columns={'Gene_Name': 'Gene_ID', 'logFC': 'LogFC', 'PValue': 'P_value'})\n",
        "df_2 = df_2[['Gene_Name', 'logFC', 'PValue']].rename(columns={'Gene_Name': 'Gene_ID', 'logFC': 'LogFC', 'PValue': 'P_value'})\n",
        "df_3 = df_3[['Gene_Name', 'logFC', 'PValue']].rename(columns={'Gene_Name': 'Gene_ID', 'logFC': 'LogFC', 'PValue': 'P_value'})"
      ],
      "metadata": {
        "id": "R6K5Bb4WJ5UP"
      },
      "execution_count": null,
      "outputs": []
    },
    {
      "cell_type": "code",
      "source": [
        "# Path to save the new CSV files\n",
        "output_dir = '/content/drive/MyDrive/Processed_Gene_Expression/'  # Change this to your desired output directory"
      ],
      "metadata": {
        "id": "H0cBOgN3SGw9"
      },
      "execution_count": null,
      "outputs": []
    },
    {
      "cell_type": "code",
      "source": [
        "# Create output directory if it does not exist\n",
        "import os\n",
        "if not os.path.exists(output_dir):\n",
        "    os.makedirs(output_dir)"
      ],
      "metadata": {
        "id": "07QTzF_eKbLd"
      },
      "execution_count": null,
      "outputs": []
    },
    {
      "cell_type": "code",
      "source": [
        "# Save the DataFrames to new CSV files\n",
        "df_1.to_csv(os.path.join(output_dir, 'filtered_logFC_±5.csv'), index=False)\n",
        "df_2.to_csv(os.path.join(output_dir, 'filtered_logFC_±8.csv'), index=False)\n",
        "df_3.to_csv(os.path.join(output_dir, 'filtered_logFC_±10.csv'), index=False)\n",
        "\n",
        "print('Files saved successfully.')"
      ],
      "metadata": {
        "colab": {
          "base_uri": "https://localhost:8080/"
        },
        "id": "AJPQeWgeLOlO",
        "outputId": "9209fda9-38a7-4681-d10b-060adbf309de"
      },
      "execution_count": null,
      "outputs": [
        {
          "output_type": "stream",
          "name": "stdout",
          "text": [
            "Files saved successfully.\n"
          ]
        }
      ]
    }
  ]
}